{
 "cells": [
  {
   "cell_type": "code",
   "execution_count": 1,
   "metadata": {},
   "outputs": [],
   "source": [
    "%matplotlib inline\n",
    "import tensorflow as tf\n",
    "import numpy as np\n",
    "import matplotlib.pyplot as plt\n",
    "import scipy\n",
    "import os\n",
    "import skimage.io\n",
    "from PIL import Image\n",
    "from io import BytesIO\n",
    "import base64"
   ]
  },
  {
   "cell_type": "code",
   "execution_count": 2,
   "metadata": {},
   "outputs": [],
   "source": [
    "data_folder=\"/Users/kanhua/Dropbox/Programming/lyft-challenge/data\""
   ]
  },
  {
   "cell_type": "code",
   "execution_count": 3,
   "metadata": {},
   "outputs": [],
   "source": [
    "test_file=os.path.join(data_folder,\"CameraRGB/258.png\")\n",
    "test_file_label=os.path.join(data_folder,\"CameraSeg/258.png\")"
   ]
  },
  {
   "cell_type": "code",
   "execution_count": 4,
   "metadata": {},
   "outputs": [
    {
     "data": {
      "text/plain": [
       "'/Users/kanhua/Dropbox/Programming/lyft-challenge/data/CameraRGB/258.png'"
      ]
     },
     "execution_count": 4,
     "metadata": {},
     "output_type": "execute_result"
    }
   ],
   "source": [
    "test_file"
   ]
  },
  {
   "cell_type": "code",
   "execution_count": 5,
   "metadata": {},
   "outputs": [
    {
     "data": {
      "text/plain": [
       "<matplotlib.image.AxesImage at 0x1a2c1e1d68>"
      ]
     },
     "execution_count": 5,
     "metadata": {},
     "output_type": "execute_result"
    },
    {
     "data": {
      "image/png": "[encoded data removed]",
      "text/plain": [
       "<Figure size 432x288 with 1 Axes>"
      ]
     },
     "metadata": {},
     "output_type": "display_data"
    }
   ],
   "source": [
    "img_label=skimage.io.imread(test_file_label,format=\"png\")\n",
    "plt.imshow(img_label[:,:,0],cmap=\"tab10\")"
   ]
  },
  {
   "cell_type": "code",
   "execution_count": 6,
   "metadata": {},
   "outputs": [
    {
     "data": {
      "text/plain": [
       "array([[False, False, False, ..., False, False, False],\n",
       "       [False, False, False, ..., False, False, False],\n",
       "       [False, False, False, ..., False, False, False],\n",
       "       ...,\n",
       "       [False, False, False, ..., False, False, False],\n",
       "       [False, False, False, ..., False, False, False],\n",
       "       [False, False, False, ..., False, False, False]])"
      ]
     },
     "execution_count": 6,
     "metadata": {},
     "output_type": "execute_result"
    }
   ],
   "source": [
    "binary_label=(img_label[:,:,0]==7)\n",
    "binary_label"
   ]
  },
  {
   "cell_type": "code",
   "execution_count": 7,
   "metadata": {
    "scrolled": true
   },
   "outputs": [
    {
     "data": {
      "text/plain": [
       "<matplotlib.image.AxesImage at 0x1a2d3634a8>"
      ]
     },
     "execution_count": 7,
     "metadata": {},
     "output_type": "execute_result"
    },
    {
     "data": {
      "image/png": "[encoded data removed]",
      "text/plain": [
       "<Figure size 432x288 with 1 Axes>"
      ]
     },
     "metadata": {},
     "output_type": "display_data"
    }
   ],
   "source": [
    "plt.imshow(binary_label)"
   ]
  },
  {
   "cell_type": "code",
   "execution_count": 8,
   "metadata": {},
   "outputs": [
    {
     "data": {
      "text/plain": [
       "array([[False, False, False, ..., False, False, False],\n",
       "       [False, False, False, ..., False, False, False],\n",
       "       [False, False, False, ..., False, False, False],\n",
       "       ...,\n",
       "       [False, False, False, ..., False, False, False],\n",
       "       [False, False, False, ..., False, False, False],\n",
       "       [False, False, False, ..., False, False, False]])"
      ]
     },
     "execution_count": 8,
     "metadata": {},
     "output_type": "execute_result"
    }
   ],
   "source": [
    "binary_label"
   ]
  },
  {
   "cell_type": "code",
   "execution_count": 9,
   "metadata": {},
   "outputs": [],
   "source": [
    "pimg=Image.fromarray(binary_label)"
   ]
  },
  {
   "cell_type": "code",
   "execution_count": 10,
   "metadata": {},
   "outputs": [],
   "source": [
    "import pickle"
   ]
  },
  {
   "cell_type": "code",
   "execution_count": 11,
   "metadata": {},
   "outputs": [],
   "source": [
    "fp=open(\"temp.dump\",'rb')\n",
    "pickel_img=pickle.load(fp)\n",
    "fp.close()"
   ]
  },
  {
   "cell_type": "code",
   "execution_count": 13,
   "metadata": {},
   "outputs": [
    {
     "data": {
      "text/plain": [
       "numpy.ndarray"
      ]
     },
     "execution_count": 13,
     "metadata": {},
     "output_type": "execute_result"
    }
   ],
   "source": [
    "type(pickel_img)"
   ]
  },
  {
   "cell_type": "code",
   "execution_count": 14,
   "metadata": {},
   "outputs": [
    {
     "data": {
      "text/plain": [
       "(640, 832, 1)"
      ]
     },
     "execution_count": 14,
     "metadata": {},
     "output_type": "execute_result"
    }
   ],
   "source": [
    "pickel_img.shape"
   ]
  },
  {
   "cell_type": "code",
   "execution_count": 15,
   "metadata": {},
   "outputs": [],
   "source": [
    "pickel_img=pickel_img.astype(np.bool).reshape(*pickel_img.shape[0:2])"
   ]
  },
  {
   "cell_type": "code",
   "execution_count": 16,
   "metadata": {},
   "outputs": [
    {
     "name": "stderr",
     "output_type": "stream",
     "text": [
      "/Users/kanhua/miniconda3/envs/tensorflow/lib/python3.6/site-packages/skimage/transform/_warps.py:84: UserWarning: The default mode, 'constant', will be changed to 'reflect' in skimage 0.15.\n",
      "  warn(\"The default mode, 'constant', will be changed to 'reflect' in \"\n"
     ]
    }
   ],
   "source": [
    "import skimage.transform\n",
    "pickel_img=skimage.transform.resize(pickel_img,(600,800))"
   ]
  },
  {
   "cell_type": "code",
   "execution_count": 17,
   "metadata": {},
   "outputs": [],
   "source": [
    "pickel_img=pickel_img.astype(np.uint8)"
   ]
  },
  {
   "cell_type": "code",
   "execution_count": 18,
   "metadata": {},
   "outputs": [
    {
     "data": {
      "text/plain": [
       "<matplotlib.image.AxesImage at 0x1c2e666550>"
      ]
     },
     "execution_count": 18,
     "metadata": {},
     "output_type": "execute_result"
    },
    {
     "data": {
      "image/png": "[encoded data removed]",
      "text/plain": [
       "<Figure size 432x288 with 1 Axes>"
      ]
     },
     "metadata": {},
     "output_type": "display_data"
    }
   ],
   "source": [
    "plt.imshow(pickel_img)"
   ]
  },
  {
   "cell_type": "code",
   "execution_count": 23,
   "metadata": {},
   "outputs": [
    {
     "data": {
      "text/plain": [
       "1"
      ]
     },
     "execution_count": 23,
     "metadata": {},
     "output_type": "execute_result"
    }
   ],
   "source": [
    "pickel_img.max()"
   ]
  },
  {
   "cell_type": "code",
   "execution_count": 19,
   "metadata": {},
   "outputs": [],
   "source": [
    "pimg=Image.fromarray(pickel_img)"
   ]
  },
  {
   "cell_type": "code",
   "execution_count": null,
   "metadata": {},
   "outputs": [],
   "source": []
  },
  {
   "cell_type": "code",
   "execution_count": 20,
   "metadata": {},
   "outputs": [],
   "source": [
    "def encode(array):\n",
    "    pil_img = Image.fromarray(array)\n",
    "    buff = BytesIO()\n",
    "    pil_img.save(buff, format=\"PNG\")\n",
    "    return base64.b64encode(buff.getvalue()).decode(\"utf-8\")"
   ]
  },
  {
   "cell_type": "code",
   "execution_count": 21,
   "metadata": {},
   "outputs": [
    {
     "data": {
      "text/plain": [
       "'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'"
      ]
     },
     "execution_count": 21,
     "metadata": {},
     "output_type": "execute_result"
    }
   ],
   "source": [
    "encode(pickel_img)"
   ]
  },
  {
   "cell_type": "code",
   "execution_count": null,
   "metadata": {},
   "outputs": [],
   "source": []
  }
 ],
 "metadata": {
  "kernelspec": {
   "display_name": "Python 3",
   "language": "python",
   "name": "python3"
  },
  "language_info": {
   "codemirror_mode": {
    "name": "ipython",
    "version": 3
   },
   "file_extension": ".py",
   "mimetype": "text/x-python",
   "name": "python",
   "nbconvert_exporter": "python",
   "pygments_lexer": "ipython3",
   "version": "3.6.5"
  }
 },
 "nbformat": 4,
 "nbformat_minor": 2
}
