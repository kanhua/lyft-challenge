{
 "cells": [
  {
   "cell_type": "code",
   "execution_count": 1,
   "metadata": {},
   "outputs": [],
   "source": [
    "%matplotlib inline\n",
    "import tensorflow as tf\n",
    "import numpy as np\n",
    "import matplotlib.pyplot as plt\n",
    "import scipy\n",
    "import os\n",
    "import skimage.io\n",
    "from glob import glob"
   ]
  },
  {
   "cell_type": "code",
   "execution_count": 2,
   "metadata": {},
   "outputs": [],
   "source": [
    "data_folder=\"/Users/kanhua/Downloads/data/Train/\"\n",
    "image_paths = glob(os.path.join(data_folder, 'CameraRGB', '*.png'))\n",
    "label_paths = glob(os.path.join(data_folder, 'CameraSeg', '*.png'))\n",
    "\n",
    "images = []\n",
    "gt_images = []"
   ]
  },
  {
   "cell_type": "code",
   "execution_count": 3,
   "metadata": {},
   "outputs": [],
   "source": [
    "num_classes=13\n",
    "label_agg=np.zeros((len(label_paths),num_classes))\n",
    "\n",
    "car_hood=np.load(\"hood_mask.npy\")\n",
    "for i in range(len(label_paths)):\n",
    "    label_file=label_paths[i]\n",
    "    img_array=skimage.io.imread(label_file)\n",
    "    img_label=img_array[:,:,0]\n",
    "    img_label=img_label*car_hood\n",
    "    for nk in range(num_classes):\n",
    "        class_label=(img_label==nk)\n",
    "        label_agg[i,nk]=np.sum(class_label)"
   ]
  },
  {
   "cell_type": "code",
   "execution_count": 4,
   "metadata": {},
   "outputs": [
    {
     "data": {
      "text/plain": [
       "(array([1.583e+03, 8.450e+02, 4.600e+02, 3.230e+02, 2.020e+02, 1.450e+02,\n",
       "        1.040e+02, 9.400e+01, 6.800e+01, 5.900e+01, 6.200e+01, 4.500e+01,\n",
       "        4.200e+01, 4.200e+01, 1.100e+02, 4.500e+01, 8.300e+01, 1.120e+02,\n",
       "        3.900e+01, 3.300e+01, 3.000e+01, 6.100e+01, 2.900e+01, 1.800e+01,\n",
       "        2.200e+01, 7.000e+00, 1.200e+01, 1.300e+01, 7.000e+00, 8.000e+00,\n",
       "        4.000e+00, 5.000e+00, 5.000e+00, 5.000e+00, 4.000e+00, 6.000e+00,\n",
       "        0.000e+00, 2.400e+01, 3.700e+01, 1.300e+01, 2.000e+00, 1.000e+00,\n",
       "        4.000e+00, 1.000e+00, 2.000e+00, 0.000e+00, 2.000e+00, 2.000e+00,\n",
       "        0.000e+00, 2.000e+00]),\n",
       " array([    0.  ,  1245.04,  2490.08,  3735.12,  4980.16,  6225.2 ,\n",
       "         7470.24,  8715.28,  9960.32, 11205.36, 12450.4 , 13695.44,\n",
       "        14940.48, 16185.52, 17430.56, 18675.6 , 19920.64, 21165.68,\n",
       "        22410.72, 23655.76, 24900.8 , 26145.84, 27390.88, 28635.92,\n",
       "        29880.96, 31126.  , 32371.04, 33616.08, 34861.12, 36106.16,\n",
       "        37351.2 , 38596.24, 39841.28, 41086.32, 42331.36, 43576.4 ,\n",
       "        44821.44, 46066.48, 47311.52, 48556.56, 49801.6 , 51046.64,\n",
       "        52291.68, 53536.72, 54781.76, 56026.8 , 57271.84, 58516.88,\n",
       "        59761.92, 61006.96, 62252.  ]),\n",
       " <a list of 50 Patch objects>)"
      ]
     },
     "execution_count": 4,
     "metadata": {},
     "output_type": "execute_result"
    },
    {
     "data": {
      "image/png": "[encoded data removed]",
      "text/plain": [
       "<Figure size 432x288 with 1 Axes>"
      ]
     },
     "metadata": {},
     "output_type": "display_data"
    }
   ],
   "source": [
    "plt.hist(label_agg[:,10],bins=50)"
   ]
  },
  {
   "cell_type": "code",
   "execution_count": 5,
   "metadata": {},
   "outputs": [
    {
     "data": {
      "text/plain": [
       "1062"
      ]
     },
     "execution_count": 5,
     "metadata": {},
     "output_type": "execute_result"
    }
   ],
   "source": [
    "np.sum(label_agg[:,10]>10000)"
   ]
  },
  {
   "cell_type": "markdown",
   "metadata": {},
   "source": [
    "## compute the pixels"
   ]
  },
  {
   "cell_type": "code",
   "execution_count": 18,
   "metadata": {},
   "outputs": [],
   "source": [
    "num_classes=13\n",
    "label_agg=np.zeros((len(label_paths),num_classes))\n",
    "threshold=10000\n",
    "upper_crop=170\n",
    "bot_crop=520\n",
    "\n",
    "car_hood=np.load(\"hood_mask.npy\").astype(np.bool)\n",
    "for i in range(len(label_paths)):\n",
    "    label_file=label_paths[i]\n",
    "    img_array=skimage.io.imread(label_file)\n",
    "    img_label=img_array[:,:,0].astype(np.uint8)\n",
    "    img_label=img_label*car_hood\n",
    "    img_label=img_label[upper_crop:bot_crop,:]\n",
    "    for nk in range(num_classes):\n",
    "        class_label=(img_label==nk)\n",
    "        label_agg[i,nk]=np.sum(class_label)"
   ]
  },
  {
   "cell_type": "code",
   "execution_count": 33,
   "metadata": {},
   "outputs": [],
   "source": [
    "filtered_label=label_agg[label_agg[:,10]>10000]"
   ]
  },
  {
   "cell_type": "code",
   "execution_count": 40,
   "metadata": {},
   "outputs": [],
   "source": [
    "def get_p(label_agg):\n",
    "    car_pixels=np.sum(label_agg[:,10])\n",
    "    road_pixels=np.sum(label_agg[:,7])\n",
    "    all_pixels=np.sum(label_agg)\n",
    "    p_veh=(car_pixels)/(all_pixels)\n",
    "    p_road=(road_pixels)/(all_pixels)\n",
    "    p_none=1-p_veh-p_road\n",
    "    print(\"p_road: {}, p_veh: {},p_none: {}\".format(p_road,p_veh,1-p_road-p_veh))\n",
    "    return p_none,p_road,p_veh"
   ]
  },
  {
   "cell_type": "code",
   "execution_count": null,
   "metadata": {},
   "outputs": [],
   "source": []
  },
  {
   "cell_type": "code",
   "execution_count": 41,
   "metadata": {},
   "outputs": [
    {
     "name": "stdout",
     "output_type": "stream",
     "text": [
      "p_road: 0.30796687516814636, p_veh: 0.08245320823244552,p_none: 0.6095799165994081\n"
     ]
    }
   ],
   "source": [
    "p_hat=get_p(filtered_label)"
   ]
  },
  {
   "cell_type": "code",
   "execution_count": 45,
   "metadata": {},
   "outputs": [
    {
     "name": "stdout",
     "output_type": "stream",
     "text": [
      "[ 2.047828    3.52548263 10.25242643]\n"
     ]
    }
   ],
   "source": [
    "p_hat=np.array(p_hat)\n",
    "w=1/np.log(1.02+p_hat)\n",
    "print(w)"
   ]
  },
  {
   "cell_type": "code",
   "execution_count": null,
   "metadata": {},
   "outputs": [],
   "source": []
  }
 ],
 "metadata": {
  "kernelspec": {
   "display_name": "Python 3",
   "language": "python",
   "name": "python3"
  },
  "language_info": {
   "codemirror_mode": {
    "name": "ipython",
    "version": 3
   },
   "file_extension": ".py",
   "mimetype": "text/x-python",
   "name": "python",
   "nbconvert_exporter": "python",
   "pygments_lexer": "ipython3",
   "version": "3.6.5"
  }
 },
 "nbformat": 4,
 "nbformat_minor": 2
}
