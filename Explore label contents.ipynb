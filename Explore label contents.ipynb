{
 "cells": [
  {
   "cell_type": "code",
   "execution_count": 1,
   "metadata": {},
   "outputs": [],
   "source": [
    "%matplotlib inline\n",
    "import tensorflow as tf\n",
    "import numpy as np\n",
    "import matplotlib.pyplot as plt\n",
    "import scipy\n",
    "import os\n",
    "import skimage.io\n",
    "from glob import glob"
   ]
  },
  {
   "cell_type": "code",
   "execution_count": 2,
   "metadata": {},
   "outputs": [],
   "source": [
    "data_folder=\"./data\"\n",
    "image_paths = glob(os.path.join(data_folder, 'CameraRGB', '*.png'))\n",
    "label_paths = glob(os.path.join(data_folder, 'CameraSeg', '*.png'))\n",
    "\n",
    "images = []\n",
    "gt_images = []"
   ]
  },
  {
   "cell_type": "code",
   "execution_count": 3,
   "metadata": {},
   "outputs": [],
   "source": [
    "num_classes=13\n",
    "label_agg=np.zeros((len(label_paths),num_classes))\n",
    "\n",
    "car_hood=np.load(\"hood_mask.npy\")\n",
    "for i in range(len(label_paths)):\n",
    "    label_file=label_paths[i]\n",
    "    img_array=skimage.io.imread(label_file)\n",
    "    img_label=img_array[:,:,0]\n",
    "    img_label=img_label*car_hood\n",
    "    for nk in range(num_classes):\n",
    "        class_label=(img_label==nk)\n",
    "        label_agg[i,nk]=np.sum(class_label)"
   ]
  },
  {
   "cell_type": "code",
   "execution_count": 4,
   "metadata": {},
   "outputs": [
    {
     "data": {
      "text/plain": [
       "(array([158., 161., 115.,  52.,  34.,  79.,  53.,  33.,  19.,  25.,  23.,\n",
       "         20.,  18.,  10.,  10.,  12.,   7.,  11.,   4.,   9.,   7.,   9.,\n",
       "          5.,  10.,   8.,   4.,  64.,   1.,   4.,   2.,   3.,   6.,   6.,\n",
       "          2.,   2.,   4.,   1.,   2.,   0.,   2.,   1.,   1.,   0.,   0.,\n",
       "          1.,   0.,   0.,   0.,   0.,   2.]),\n",
       " array([    0.  ,   828.56,  1657.12,  2485.68,  3314.24,  4142.8 ,\n",
       "         4971.36,  5799.92,  6628.48,  7457.04,  8285.6 ,  9114.16,\n",
       "         9942.72, 10771.28, 11599.84, 12428.4 , 13256.96, 14085.52,\n",
       "        14914.08, 15742.64, 16571.2 , 17399.76, 18228.32, 19056.88,\n",
       "        19885.44, 20714.  , 21542.56, 22371.12, 23199.68, 24028.24,\n",
       "        24856.8 , 25685.36, 26513.92, 27342.48, 28171.04, 28999.6 ,\n",
       "        29828.16, 30656.72, 31485.28, 32313.84, 33142.4 , 33970.96,\n",
       "        34799.52, 35628.08, 36456.64, 37285.2 , 38113.76, 38942.32,\n",
       "        39770.88, 40599.44, 41428.  ]),\n",
       " <a list of 50 Patch objects>)"
      ]
     },
     "execution_count": 4,
     "metadata": {},
     "output_type": "execute_result"
    },
    {
     "data": {
      "image/png": "[encoded data removed]",
      "text/plain": [
       "<Figure size 432x288 with 1 Axes>"
      ]
     },
     "metadata": {},
     "output_type": "display_data"
    }
   ],
   "source": [
    "plt.hist(label_agg[:,10],bins=50)"
   ]
  },
  {
   "cell_type": "code",
   "execution_count": 5,
   "metadata": {},
   "outputs": [
    {
     "data": {
      "text/plain": [
       "(array([ 1.,  3.,  1.,  4.,  3.,  3.,  4.,  0.,  3.,  2.,  5.,  3.,  3.,\n",
       "         3.,  2.,  7.,  7., 64., 20., 23., 43., 49., 57., 74., 73., 64.,\n",
       "        73., 55., 47., 46., 47., 42., 32., 24., 18., 10.,  8.,  9., 10.,\n",
       "         8.,  2.,  6.,  9.,  3.,  6.,  3.,  7.,  5.,  6.,  3.]),\n",
       " array([ 50437.  ,  52040.28,  53643.56,  55246.84,  56850.12,  58453.4 ,\n",
       "         60056.68,  61659.96,  63263.24,  64866.52,  66469.8 ,  68073.08,\n",
       "         69676.36,  71279.64,  72882.92,  74486.2 ,  76089.48,  77692.76,\n",
       "         79296.04,  80899.32,  82502.6 ,  84105.88,  85709.16,  87312.44,\n",
       "         88915.72,  90519.  ,  92122.28,  93725.56,  95328.84,  96932.12,\n",
       "         98535.4 , 100138.68, 101741.96, 103345.24, 104948.52, 106551.8 ,\n",
       "        108155.08, 109758.36, 111361.64, 112964.92, 114568.2 , 116171.48,\n",
       "        117774.76, 119378.04, 120981.32, 122584.6 , 124187.88, 125791.16,\n",
       "        127394.44, 128997.72, 130601.  ]),\n",
       " <a list of 50 Patch objects>)"
      ]
     },
     "execution_count": 5,
     "metadata": {},
     "output_type": "execute_result"
    },
    {
     "data": {
      "image/png": "[encoded data removed]",
      "text/plain": [
       "<Figure size 432x288 with 1 Axes>"
      ]
     },
     "metadata": {},
     "output_type": "display_data"
    }
   ],
   "source": [
    "plt.hist(label_agg[:,7],bins=50)"
   ]
  },
  {
   "cell_type": "code",
   "execution_count": 6,
   "metadata": {},
   "outputs": [],
   "source": [
    "car_road_ratio=label_agg[:,10]/label_agg[:,7]"
   ]
  },
  {
   "cell_type": "code",
   "execution_count": 7,
   "metadata": {},
   "outputs": [
    {
     "data": {
      "text/plain": [
       "(array([200., 190.,  86.,  62.,  91.,  51.,  42.,  25.,  27.,  20.,  14.,\n",
       "          9.,  11.,  11.,   9.,  11.,   9.,   2.,   8.,   9.,   4.,   5.,\n",
       "          7.,   6.,  61.,   5.,   3.,   3.,   1.,   4.,   5.,   2.,   2.,\n",
       "          1.,   2.,   0.,   0.,   0.,   0.,   2.]),\n",
       " array([0.        , 0.01135918, 0.02271836, 0.03407754, 0.04543672,\n",
       "        0.05679591, 0.06815509, 0.07951427, 0.09087345, 0.10223263,\n",
       "        0.11359181, 0.12495099, 0.13631017, 0.14766935, 0.15902853,\n",
       "        0.17038772, 0.1817469 , 0.19310608, 0.20446526, 0.21582444,\n",
       "        0.22718362, 0.2385428 , 0.24990198, 0.26126116, 0.27262035,\n",
       "        0.28397953, 0.29533871, 0.30669789, 0.31805707, 0.32941625,\n",
       "        0.34077543, 0.35213461, 0.36349379, 0.37485298, 0.38621216,\n",
       "        0.39757134, 0.40893052, 0.4202897 , 0.43164888, 0.44300806,\n",
       "        0.45436724]),\n",
       " <a list of 40 Patch objects>)"
      ]
     },
     "execution_count": 7,
     "metadata": {},
     "output_type": "execute_result"
    },
    {
     "data": {
      "image/png": "[encoded data removed]",
      "text/plain": [
       "<Figure size 432x288 with 1 Axes>"
      ]
     },
     "metadata": {},
     "output_type": "display_data"
    }
   ],
   "source": [
    "plt.hist(car_road_ratio,bins=40)"
   ]
  },
  {
   "cell_type": "code",
   "execution_count": 8,
   "metadata": {},
   "outputs": [],
   "source": [
    "num_classes=13\n",
    "select_prob=0.5\n",
    "\n",
    "car_hood=np.load(\"hood_mask.npy\")\n",
    "selected_image_bin=[]\n",
    "for i in range(len(label_paths)):\n",
    "    label_file=label_paths[i]\n",
    "    img_array=skimage.io.imread(label_file)\n",
    "    img_label=img_array[:,:,0]\n",
    "    img_label=img_label*car_hood\n",
    "    \n",
    "    car_count=np.sum((img_label==10))\n",
    "    if car_count<5000:\n",
    "        if np.random.rand()>select_prob:\n",
    "            selected_image_bin.append(img_label)\n",
    "    else:\n",
    "        selected_image_bin.append(img_label)\n",
    "    "
   ]
  },
  {
   "cell_type": "code",
   "execution_count": 9,
   "metadata": {},
   "outputs": [
    {
     "data": {
      "text/plain": [
       "(array([76., 84., 58., 25., 15., 43., 53., 33., 19., 25., 23., 20., 18.,\n",
       "        10., 10., 12.,  7., 11.,  4.,  9.,  7.,  9.,  5., 10.,  8.,  4.,\n",
       "        64.,  1.,  4.,  2.,  3.,  6.,  6.,  2.,  2.,  4.,  1.,  2.,  0.,\n",
       "         2.,  1.,  1.,  0.,  0.,  1.,  0.,  0.,  0.,  0.,  2.]),\n",
       " array([    0.  ,   828.56,  1657.12,  2485.68,  3314.24,  4142.8 ,\n",
       "         4971.36,  5799.92,  6628.48,  7457.04,  8285.6 ,  9114.16,\n",
       "         9942.72, 10771.28, 11599.84, 12428.4 , 13256.96, 14085.52,\n",
       "        14914.08, 15742.64, 16571.2 , 17399.76, 18228.32, 19056.88,\n",
       "        19885.44, 20714.  , 21542.56, 22371.12, 23199.68, 24028.24,\n",
       "        24856.8 , 25685.36, 26513.92, 27342.48, 28171.04, 28999.6 ,\n",
       "        29828.16, 30656.72, 31485.28, 32313.84, 33142.4 , 33970.96,\n",
       "        34799.52, 35628.08, 36456.64, 37285.2 , 38113.76, 38942.32,\n",
       "        39770.88, 40599.44, 41428.  ]),\n",
       " <a list of 50 Patch objects>)"
      ]
     },
     "execution_count": 9,
     "metadata": {},
     "output_type": "execute_result"
    },
    {
     "data": {
      "image/png": "[encoded data removed]",
      "text/plain": [
       "<Figure size 432x288 with 1 Axes>"
      ]
     },
     "metadata": {},
     "output_type": "display_data"
    }
   ],
   "source": [
    "car_count=[]\n",
    "for simg in selected_image_bin:\n",
    "    \n",
    "    car_count.append(np.sum(simg==10))\n",
    "\n",
    "plt.hist(car_count,bins=50,alpha=0.5)\n",
    "#plt.hist(label_agg[:,10],bins=50)"
   ]
  },
  {
   "cell_type": "code",
   "execution_count": 10,
   "metadata": {},
   "outputs": [],
   "source": [
    "from simdata import ImageNpy\n",
    "imgnpy=ImageNpy(\"./data/train_data.npy\",\"./data/train_label.npy\")"
   ]
  },
  {
   "cell_type": "code",
   "execution_count": 11,
   "metadata": {},
   "outputs": [
    {
     "name": "stderr",
     "output_type": "stream",
     "text": [
      "/Users/kanhua/miniconda3/envs/tensorflow/lib/python3.6/site-packages/matplotlib/axes/_axes.py:6462: UserWarning: The 'normed' kwarg is deprecated, and has been replaced by the 'density' kwarg.\n",
      "  warnings.warn(\"The 'normed' kwarg is deprecated, and has been \"\n"
     ]
    },
    {
     "data": {
      "text/plain": [
       "(array([1.13812540e-04, 6.37850499e-05, 1.62589343e-05, 7.37905479e-05,\n",
       "        7.37905479e-05, 4.37740538e-05, 4.87768029e-05, 3.00164941e-05,\n",
       "        2.25123705e-05, 2.37630578e-05, 1.50082470e-05, 1.50082470e-05,\n",
       "        1.75096215e-05, 1.25068725e-05, 1.87603088e-05, 8.25453587e-05,\n",
       "        5.00274901e-06, 6.25343626e-06, 7.50412352e-06, 1.12561853e-05,\n",
       "        5.00274901e-06, 6.25343626e-06, 2.50137451e-06, 2.50137451e-06,\n",
       "        2.50137451e-06, 0.00000000e+00, 1.25068725e-06, 0.00000000e+00,\n",
       "        0.00000000e+00, 2.50137451e-06]),\n",
       " array([    0.        ,  1380.93333333,  2761.86666667,  4142.8       ,\n",
       "         5523.73333333,  6904.66666667,  8285.6       ,  9666.53333333,\n",
       "        11047.46666667, 12428.4       , 13809.33333333, 15190.26666667,\n",
       "        16571.2       , 17952.13333333, 19333.06666667, 20714.        ,\n",
       "        22094.93333333, 23475.86666667, 24856.8       , 26237.73333333,\n",
       "        27618.66666667, 28999.6       , 30380.53333333, 31761.46666667,\n",
       "        33142.4       , 34523.33333333, 35904.26666667, 37285.2       ,\n",
       "        38666.13333333, 40047.06666667, 41428.        ]),\n",
       " <a list of 30 Patch objects>)"
      ]
     },
     "execution_count": 11,
     "metadata": {},
     "output_type": "execute_result"
    },
    {
     "data": {
      "image/png": "[encoded data removed]",
      "text/plain": [
       "<Figure size 432x288 with 1 Axes>"
      ]
     },
     "metadata": {},
     "output_type": "display_data"
    }
   ],
   "source": [
    "car_count_after_cut=[]\n",
    "for img,lbl in imgnpy.get_bathes_fn_with_crop(50,None,shift_hue_prob=0,filter=True):\n",
    "    for ll in lbl:\n",
    "        car_count_after_cut.append(np.sum(ll[:,:,2]))\n",
    "plt.hist(car_count_after_cut,bins=30,normed=True)\n",
    "    "
   ]
  },
  {
   "cell_type": "code",
   "execution_count": 12,
   "metadata": {},
   "outputs": [],
   "source": [
    "car_count_before_cut=[]\n",
    "for img,lbl in imgnpy.get_bathes_fn_with_crop(50,None,shift_hue_prob=0,filter=False):\n",
    "    for ll in lbl:\n",
    "        car_count_before_cut.append(np.sum(ll[:,:,2]))\n"
   ]
  },
  {
   "cell_type": "code",
   "execution_count": 13,
   "metadata": {},
   "outputs": [
    {
     "name": "stderr",
     "output_type": "stream",
     "text": [
      "/Users/kanhua/miniconda3/envs/tensorflow/lib/python3.6/site-packages/matplotlib/axes/_axes.py:6462: UserWarning: The 'normed' kwarg is deprecated, and has been replaced by the 'density' kwarg.\n",
      "  warnings.warn(\"The 'normed' kwarg is deprecated, and has been \"\n"
     ]
    },
    {
     "data": {
      "text/plain": [
       "(array([1.13812540e-04, 6.37850499e-05, 1.62589343e-05, 7.37905479e-05,\n",
       "        7.37905479e-05, 4.37740538e-05, 4.87768029e-05, 3.00164941e-05,\n",
       "        2.25123705e-05, 2.37630578e-05, 1.50082470e-05, 1.50082470e-05,\n",
       "        1.75096215e-05, 1.25068725e-05, 1.87603088e-05, 8.25453587e-05,\n",
       "        5.00274901e-06, 6.25343626e-06, 7.50412352e-06, 1.12561853e-05,\n",
       "        5.00274901e-06, 6.25343626e-06, 2.50137451e-06, 2.50137451e-06,\n",
       "        2.50137451e-06, 0.00000000e+00, 1.25068725e-06, 0.00000000e+00,\n",
       "        0.00000000e+00, 2.50137451e-06]),\n",
       " array([    0.        ,  1380.93333333,  2761.86666667,  4142.8       ,\n",
       "         5523.73333333,  6904.66666667,  8285.6       ,  9666.53333333,\n",
       "        11047.46666667, 12428.4       , 13809.33333333, 15190.26666667,\n",
       "        16571.2       , 17952.13333333, 19333.06666667, 20714.        ,\n",
       "        22094.93333333, 23475.86666667, 24856.8       , 26237.73333333,\n",
       "        27618.66666667, 28999.6       , 30380.53333333, 31761.46666667,\n",
       "        33142.4       , 34523.33333333, 35904.26666667, 37285.2       ,\n",
       "        38666.13333333, 40047.06666667, 41428.        ]),\n",
       " <a list of 30 Patch objects>)"
      ]
     },
     "execution_count": 13,
     "metadata": {},
     "output_type": "execute_result"
    },
    {
     "data": {
      "image/png": "[encoded data removed]",
      "text/plain": [
       "<Figure size 432x288 with 1 Axes>"
      ]
     },
     "metadata": {},
     "output_type": "display_data"
    }
   ],
   "source": [
    "plt.hist(car_count_before_cut,bins=30,normed=True,alpha=0.5)\n",
    "plt.hist(car_count_after_cut,bins=30,normed=True,alpha=0.5)"
   ]
  },
  {
   "cell_type": "code",
   "execution_count": 14,
   "metadata": {},
   "outputs": [
    {
     "data": {
      "text/plain": [
       "(array([91., 51., 13., 59., 59., 35., 39., 24., 18., 19., 12., 12., 14.,\n",
       "        10., 15., 66.,  4.,  5.,  6.,  9.,  4.,  5.,  2.,  2.,  2.,  0.,\n",
       "         1.,  0.,  0.,  2.]),\n",
       " array([    0.        ,  1380.93333333,  2761.86666667,  4142.8       ,\n",
       "         5523.73333333,  6904.66666667,  8285.6       ,  9666.53333333,\n",
       "        11047.46666667, 12428.4       , 13809.33333333, 15190.26666667,\n",
       "        16571.2       , 17952.13333333, 19333.06666667, 20714.        ,\n",
       "        22094.93333333, 23475.86666667, 24856.8       , 26237.73333333,\n",
       "        27618.66666667, 28999.6       , 30380.53333333, 31761.46666667,\n",
       "        33142.4       , 34523.33333333, 35904.26666667, 37285.2       ,\n",
       "        38666.13333333, 40047.06666667, 41428.        ]),\n",
       " <a list of 30 Patch objects>)"
      ]
     },
     "execution_count": 14,
     "metadata": {},
     "output_type": "execute_result"
    },
    {
     "data": {
      "image/png": "[encoded data removed]",
      "text/plain": [
       "<Figure size 432x288 with 1 Axes>"
      ]
     },
     "metadata": {},
     "output_type": "display_data"
    }
   ],
   "source": [
    "plt.hist(car_count_before_cut,bins=30,alpha=0.5)\n",
    "plt.hist(car_count_after_cut,bins=30,alpha=0.5)"
   ]
  },
  {
   "cell_type": "code",
   "execution_count": null,
   "metadata": {},
   "outputs": [],
   "source": []
  }
 ],
 "metadata": {
  "kernelspec": {
   "display_name": "Python 3",
   "language": "python",
   "name": "python3"
  },
  "language_info": {
   "codemirror_mode": {
    "name": "ipython",
    "version": 3
   },
   "file_extension": ".py",
   "mimetype": "text/x-python",
   "name": "python",
   "nbconvert_exporter": "python",
   "pygments_lexer": "ipython3",
   "version": "3.6.5"
  }
 },
 "nbformat": 4,
 "nbformat_minor": 2
}
